{
  "nbformat": 4,
  "nbformat_minor": 0,
  "metadata": {
    "colab": {
      "name": "SentimentAnalysisPandas.ipynb",
      "provenance": []
    },
    "kernelspec": {
      "name": "python3",
      "display_name": "Python 3"
    },
    "language_info": {
      "name": "python"
    }
  },
  "cells": [
    {
      "cell_type": "markdown",
      "metadata": {
        "id": "rkmVBTYqVBls"
      },
      "source": [
        "# IMPORTING LIBRARIES"
      ]
    },
    {
      "cell_type": "code",
      "metadata": {
        "id": "1m1H4X_gUBrn"
      },
      "source": [
        "#Dataframe\n",
        "import pandas as pd\n",
        "#plotting\n",
        "import matplotlib.pyplot as plt\n",
        "import seaborn as sns\n",
        "#nltk\n",
        "import nltk\n",
        "from nltk.stem import WordNetLemmatizer\n",
        "from nltk.corpus import stopwords\n",
        "from nltk.tokenize import word_tokenize\n",
        "#utility\n",
        "import re\n",
        "import string\n",
        "#spark\n",
        "from pyspark.sql import SparkSession\n",
        "from __future__ import print_function\n",
        "from pyspark.ml.feature import HashingTF, IDF, Tokenizer\n",
        "from pyspark.sql import SparkSession"
      ],
      "execution_count": 35,
      "outputs": []
    },
    {
      "cell_type": "markdown",
      "metadata": {
        "id": "CxQyHYmMVg2c"
      },
      "source": [
        "# LOADING DATASET"
      ]
    },
    {
      "cell_type": "code",
      "metadata": {
        "id": "6oeL4DrJVnGW"
      },
      "source": [
        "data = pd.read_csv(\"/content/training.1600000.processed.noemoticon.csv\", encoding='latin',\n",
        "                   names=['polarity','id','date','query','user','text'])"
      ],
      "execution_count": 2,
      "outputs": []
    },
    {
      "cell_type": "code",
      "metadata": {
        "id": "fKfJT0IXW_gC"
      },
      "source": [
        "#Estraggo un campione di \n",
        "data = data.sample(frac=1)\n",
        "data = data[:200000]"
      ],
      "execution_count": 3,
      "outputs": []
    },
    {
      "cell_type": "markdown",
      "metadata": {
        "id": "VLjD_SW1XcPQ"
      },
      "source": [
        "# DATA VISUALIZATION"
      ]
    },
    {
      "cell_type": "markdown",
      "metadata": {
        "id": "Huf4gsldXlU0"
      },
      "source": [
        "Dataset details target: the polarity of the tweet (0 = negative, 4 = positive)\n",
        "\n",
        "\n",
        "> date : the date of the tweet (Sat May 16 23:58:44 PDT 2009)\n",
        "\n",
        "\n",
        "> polarity : the polarity of the tweet (0 = negative 4 = positive)\n",
        "\n",
        "\n",
        "> user : the user that tweeted (TerraScene)\n",
        "\n",
        "\n",
        "> text : the text of the tweet (i'm 10x cooler than all of you)\n"
      ]
    },
    {
      "cell_type": "code",
      "metadata": {
        "colab": {
          "base_uri": "https://localhost:8080/"
        },
        "id": "9VvRfECeXfSj",
        "outputId": "b24ff426-ed36-4758-cdf1-76af363327c9"
      },
      "source": [
        "print(\"Dataset shape: \", data.shape)"
      ],
      "execution_count": 4,
      "outputs": [
        {
          "output_type": "stream",
          "text": [
            "Dataset shape:  (200000, 6)\n"
          ],
          "name": "stdout"
        }
      ]
    },
    {
      "cell_type": "code",
      "metadata": {
        "colab": {
          "base_uri": "https://localhost:8080/",
          "height": 343
        },
        "id": "KVHljaq9bArM",
        "outputId": "13bdaed8-df12-4a0c-b12f-968a941efdda"
      },
      "source": [
        "data.head(10)"
      ],
      "execution_count": 5,
      "outputs": [
        {
          "output_type": "execute_result",
          "data": {
            "text/html": [
              "<div>\n",
              "<style scoped>\n",
              "    .dataframe tbody tr th:only-of-type {\n",
              "        vertical-align: middle;\n",
              "    }\n",
              "\n",
              "    .dataframe tbody tr th {\n",
              "        vertical-align: top;\n",
              "    }\n",
              "\n",
              "    .dataframe thead th {\n",
              "        text-align: right;\n",
              "    }\n",
              "</style>\n",
              "<table border=\"1\" class=\"dataframe\">\n",
              "  <thead>\n",
              "    <tr style=\"text-align: right;\">\n",
              "      <th></th>\n",
              "      <th>polarity</th>\n",
              "      <th>id</th>\n",
              "      <th>date</th>\n",
              "      <th>query</th>\n",
              "      <th>user</th>\n",
              "      <th>text</th>\n",
              "    </tr>\n",
              "  </thead>\n",
              "  <tbody>\n",
              "    <tr>\n",
              "      <th>149658</th>\n",
              "      <td>0</td>\n",
              "      <td>1883501277</td>\n",
              "      <td>Fri May 22 08:39:06 PDT 2009</td>\n",
              "      <td>NO_QUERY</td>\n",
              "      <td>Linz1010</td>\n",
              "      <td>@NCenglander poor you  &amp;lt;333333</td>\n",
              "    </tr>\n",
              "    <tr>\n",
              "      <th>152366</th>\n",
              "      <td>0</td>\n",
              "      <td>1932722008</td>\n",
              "      <td>Tue May 26 22:04:18 PDT 2009</td>\n",
              "      <td>NO_QUERY</td>\n",
              "      <td>chloe_cullen</td>\n",
              "      <td>Just got up for work all my family are still i...</td>\n",
              "    </tr>\n",
              "    <tr>\n",
              "      <th>865527</th>\n",
              "      <td>4</td>\n",
              "      <td>1677475504</td>\n",
              "      <td>Sat May 02 02:16:27 PDT 2009</td>\n",
              "      <td>NO_QUERY</td>\n",
              "      <td>drkellypage</td>\n",
              "      <td>A belated #followfriday on #sorrysaturday @tom...</td>\n",
              "    </tr>\n",
              "    <tr>\n",
              "      <th>1482797</th>\n",
              "      <td>4</td>\n",
              "      <td>2067335897</td>\n",
              "      <td>Sun Jun 07 12:09:56 PDT 2009</td>\n",
              "      <td>NO_QUERY</td>\n",
              "      <td>MissJPretty89</td>\n",
              "      <td>I am soooooo ready to see Magic beat the Laker...</td>\n",
              "    </tr>\n",
              "    <tr>\n",
              "      <th>1539920</th>\n",
              "      <td>4</td>\n",
              "      <td>2180253884</td>\n",
              "      <td>Mon Jun 15 10:13:05 PDT 2009</td>\n",
              "      <td>NO_QUERY</td>\n",
              "      <td>petermaurer</td>\n",
              "      <td>On the iPhone, it actually makes sense to use ...</td>\n",
              "    </tr>\n",
              "    <tr>\n",
              "      <th>1012154</th>\n",
              "      <td>4</td>\n",
              "      <td>1881178292</td>\n",
              "      <td>Fri May 22 03:51:37 PDT 2009</td>\n",
              "      <td>NO_QUERY</td>\n",
              "      <td>TwistedHelen</td>\n",
              "      <td>@Rockergirl75 You're here! I couldn't see you</td>\n",
              "    </tr>\n",
              "    <tr>\n",
              "      <th>477174</th>\n",
              "      <td>0</td>\n",
              "      <td>2178111023</td>\n",
              "      <td>Mon Jun 15 07:12:37 PDT 2009</td>\n",
              "      <td>NO_QUERY</td>\n",
              "      <td>gazagoury</td>\n",
              "      <td>At work</td>\n",
              "    </tr>\n",
              "    <tr>\n",
              "      <th>355881</th>\n",
              "      <td>0</td>\n",
              "      <td>2044088599</td>\n",
              "      <td>Fri Jun 05 08:51:10 PDT 2009</td>\n",
              "      <td>NO_QUERY</td>\n",
              "      <td>ClaireFry</td>\n",
              "      <td>@alandavies1 Not the only one Alan! One of a s...</td>\n",
              "    </tr>\n",
              "    <tr>\n",
              "      <th>396168</th>\n",
              "      <td>0</td>\n",
              "      <td>2056292398</td>\n",
              "      <td>Sat Jun 06 10:52:46 PDT 2009</td>\n",
              "      <td>NO_QUERY</td>\n",
              "      <td>jatetenkins</td>\n",
              "      <td>Turning my phone off, going for a drive. Anoth...</td>\n",
              "    </tr>\n",
              "    <tr>\n",
              "      <th>50686</th>\n",
              "      <td>0</td>\n",
              "      <td>1678598246</td>\n",
              "      <td>Sat May 02 07:11:52 PDT 2009</td>\n",
              "      <td>NO_QUERY</td>\n",
              "      <td>Love__Bug</td>\n",
              "      <td>hmmm absolutley NO groceries in our house...  ...</td>\n",
              "    </tr>\n",
              "  </tbody>\n",
              "</table>\n",
              "</div>"
            ],
            "text/plain": [
              "         polarity  ...                                               text\n",
              "149658          0  ...                  @NCenglander poor you  &lt;333333\n",
              "152366          0  ...  Just got up for work all my family are still i...\n",
              "865527          4  ...  A belated #followfriday on #sorrysaturday @tom...\n",
              "1482797         4  ...  I am soooooo ready to see Magic beat the Laker...\n",
              "1539920         4  ...  On the iPhone, it actually makes sense to use ...\n",
              "1012154         4  ...     @Rockergirl75 You're here! I couldn't see you \n",
              "477174          0  ...                                           At work \n",
              "355881          0  ...  @alandavies1 Not the only one Alan! One of a s...\n",
              "396168          0  ...  Turning my phone off, going for a drive. Anoth...\n",
              "50686           0  ...  hmmm absolutley NO groceries in our house...  ...\n",
              "\n",
              "[10 rows x 6 columns]"
            ]
          },
          "metadata": {
            "tags": []
          },
          "execution_count": 5
        }
      ]
    },
    {
      "cell_type": "code",
      "metadata": {
        "colab": {
          "base_uri": "https://localhost:8080/"
        },
        "id": "5_nTdcTdb392",
        "outputId": "101b2938-f86c-4ee9-df9b-b95744fca30f"
      },
      "source": [
        "data['polarity'].unique()"
      ],
      "execution_count": 6,
      "outputs": [
        {
          "output_type": "execute_result",
          "data": {
            "text/plain": [
              "array([0, 4])"
            ]
          },
          "metadata": {
            "tags": []
          },
          "execution_count": 6
        }
      ]
    },
    {
      "cell_type": "code",
      "metadata": {
        "colab": {
          "base_uri": "https://localhost:8080/",
          "height": 195
        },
        "id": "64_3ydchdIzi",
        "outputId": "5d40b7b6-0988-42c3-a5b0-016ae0a5e2ea"
      },
      "source": [
        "#Replacing the value 4 --> 1 for ease of understanding\n",
        "data['polarity'] = data['polarity'].replace(4,1)\n",
        "data.head()"
      ],
      "execution_count": 7,
      "outputs": [
        {
          "output_type": "execute_result",
          "data": {
            "text/html": [
              "<div>\n",
              "<style scoped>\n",
              "    .dataframe tbody tr th:only-of-type {\n",
              "        vertical-align: middle;\n",
              "    }\n",
              "\n",
              "    .dataframe tbody tr th {\n",
              "        vertical-align: top;\n",
              "    }\n",
              "\n",
              "    .dataframe thead th {\n",
              "        text-align: right;\n",
              "    }\n",
              "</style>\n",
              "<table border=\"1\" class=\"dataframe\">\n",
              "  <thead>\n",
              "    <tr style=\"text-align: right;\">\n",
              "      <th></th>\n",
              "      <th>polarity</th>\n",
              "      <th>id</th>\n",
              "      <th>date</th>\n",
              "      <th>query</th>\n",
              "      <th>user</th>\n",
              "      <th>text</th>\n",
              "    </tr>\n",
              "  </thead>\n",
              "  <tbody>\n",
              "    <tr>\n",
              "      <th>149658</th>\n",
              "      <td>0</td>\n",
              "      <td>1883501277</td>\n",
              "      <td>Fri May 22 08:39:06 PDT 2009</td>\n",
              "      <td>NO_QUERY</td>\n",
              "      <td>Linz1010</td>\n",
              "      <td>@NCenglander poor you  &amp;lt;333333</td>\n",
              "    </tr>\n",
              "    <tr>\n",
              "      <th>152366</th>\n",
              "      <td>0</td>\n",
              "      <td>1932722008</td>\n",
              "      <td>Tue May 26 22:04:18 PDT 2009</td>\n",
              "      <td>NO_QUERY</td>\n",
              "      <td>chloe_cullen</td>\n",
              "      <td>Just got up for work all my family are still i...</td>\n",
              "    </tr>\n",
              "    <tr>\n",
              "      <th>865527</th>\n",
              "      <td>1</td>\n",
              "      <td>1677475504</td>\n",
              "      <td>Sat May 02 02:16:27 PDT 2009</td>\n",
              "      <td>NO_QUERY</td>\n",
              "      <td>drkellypage</td>\n",
              "      <td>A belated #followfriday on #sorrysaturday @tom...</td>\n",
              "    </tr>\n",
              "    <tr>\n",
              "      <th>1482797</th>\n",
              "      <td>1</td>\n",
              "      <td>2067335897</td>\n",
              "      <td>Sun Jun 07 12:09:56 PDT 2009</td>\n",
              "      <td>NO_QUERY</td>\n",
              "      <td>MissJPretty89</td>\n",
              "      <td>I am soooooo ready to see Magic beat the Laker...</td>\n",
              "    </tr>\n",
              "    <tr>\n",
              "      <th>1539920</th>\n",
              "      <td>1</td>\n",
              "      <td>2180253884</td>\n",
              "      <td>Mon Jun 15 10:13:05 PDT 2009</td>\n",
              "      <td>NO_QUERY</td>\n",
              "      <td>petermaurer</td>\n",
              "      <td>On the iPhone, it actually makes sense to use ...</td>\n",
              "    </tr>\n",
              "  </tbody>\n",
              "</table>\n",
              "</div>"
            ],
            "text/plain": [
              "         polarity  ...                                               text\n",
              "149658          0  ...                  @NCenglander poor you  &lt;333333\n",
              "152366          0  ...  Just got up for work all my family are still i...\n",
              "865527          1  ...  A belated #followfriday on #sorrysaturday @tom...\n",
              "1482797         1  ...  I am soooooo ready to see Magic beat the Laker...\n",
              "1539920         1  ...  On the iPhone, it actually makes sense to use ...\n",
              "\n",
              "[5 rows x 6 columns]"
            ]
          },
          "metadata": {
            "tags": []
          },
          "execution_count": 7
        }
      ]
    },
    {
      "cell_type": "code",
      "metadata": {
        "colab": {
          "base_uri": "https://localhost:8080/",
          "height": 284
        },
        "id": "3uQdaRy4dvdY",
        "outputId": "fe427df2-1dff-4db0-983d-7dc515f958f8"
      },
      "source": [
        "data.describe()"
      ],
      "execution_count": 8,
      "outputs": [
        {
          "output_type": "execute_result",
          "data": {
            "text/html": [
              "<div>\n",
              "<style scoped>\n",
              "    .dataframe tbody tr th:only-of-type {\n",
              "        vertical-align: middle;\n",
              "    }\n",
              "\n",
              "    .dataframe tbody tr th {\n",
              "        vertical-align: top;\n",
              "    }\n",
              "\n",
              "    .dataframe thead th {\n",
              "        text-align: right;\n",
              "    }\n",
              "</style>\n",
              "<table border=\"1\" class=\"dataframe\">\n",
              "  <thead>\n",
              "    <tr style=\"text-align: right;\">\n",
              "      <th></th>\n",
              "      <th>polarity</th>\n",
              "      <th>id</th>\n",
              "    </tr>\n",
              "  </thead>\n",
              "  <tbody>\n",
              "    <tr>\n",
              "      <th>count</th>\n",
              "      <td>200000.000000</td>\n",
              "      <td>2.000000e+05</td>\n",
              "    </tr>\n",
              "    <tr>\n",
              "      <th>mean</th>\n",
              "      <td>0.499285</td>\n",
              "      <td>1.999486e+09</td>\n",
              "    </tr>\n",
              "    <tr>\n",
              "      <th>std</th>\n",
              "      <td>0.500001</td>\n",
              "      <td>1.932042e+08</td>\n",
              "    </tr>\n",
              "    <tr>\n",
              "      <th>min</th>\n",
              "      <td>0.000000</td>\n",
              "      <td>1.467811e+09</td>\n",
              "    </tr>\n",
              "    <tr>\n",
              "      <th>25%</th>\n",
              "      <td>0.000000</td>\n",
              "      <td>1.957114e+09</td>\n",
              "    </tr>\n",
              "    <tr>\n",
              "      <th>50%</th>\n",
              "      <td>0.000000</td>\n",
              "      <td>2.002225e+09</td>\n",
              "    </tr>\n",
              "    <tr>\n",
              "      <th>75%</th>\n",
              "      <td>1.000000</td>\n",
              "      <td>2.177133e+09</td>\n",
              "    </tr>\n",
              "    <tr>\n",
              "      <th>max</th>\n",
              "      <td>1.000000</td>\n",
              "      <td>2.329205e+09</td>\n",
              "    </tr>\n",
              "  </tbody>\n",
              "</table>\n",
              "</div>"
            ],
            "text/plain": [
              "            polarity            id\n",
              "count  200000.000000  2.000000e+05\n",
              "mean        0.499285  1.999486e+09\n",
              "std         0.500001  1.932042e+08\n",
              "min         0.000000  1.467811e+09\n",
              "25%         0.000000  1.957114e+09\n",
              "50%         0.000000  2.002225e+09\n",
              "75%         1.000000  2.177133e+09\n",
              "max         1.000000  2.329205e+09"
            ]
          },
          "metadata": {
            "tags": []
          },
          "execution_count": 8
        }
      ]
    },
    {
      "cell_type": "code",
      "metadata": {
        "colab": {
          "base_uri": "https://localhost:8080/"
        },
        "id": "hPdvF-rbd3JK",
        "outputId": "894635b8-0c09-4d9b-a355-23cbcada22ba"
      },
      "source": [
        "# check the number of positive vs. negative tagged sentences\n",
        "positives = data['polarity'][data.polarity==1]\n",
        "negatives = data['polarity'][data.polarity==0]\n",
        "\n",
        "print('Total lenght of the data is:           {}'.format(data.shape[0]))\n",
        "print('N. of positives tagged sentences is:   {}'.format(len(positives)))\n",
        "print('N. of negatives tagged sentences is:   {}'.format(len(negatives)))"
      ],
      "execution_count": 11,
      "outputs": [
        {
          "output_type": "stream",
          "text": [
            "Total lenght of the data is:           200000\n",
            "N. of positives tagged sentences is:   99857\n",
            "N. of negatives tagged sentences is:   100143\n"
          ],
          "name": "stdout"
        }
      ]
    },
    {
      "cell_type": "code",
      "metadata": {
        "id": "IUrw-2eWqJJC"
      },
      "source": [
        "#funzione che riceve il testo di un tweet e lo divide, restituendo la lunghezza della lista di stringhe\n",
        "def word_count(words):\n",
        "  return len(words.split())"
      ],
      "execution_count": 12,
      "outputs": []
    },
    {
      "cell_type": "code",
      "metadata": {
        "colab": {
          "base_uri": "https://localhost:8080/",
          "height": 458
        },
        "id": "Xvk1pZ6us3k8",
        "outputId": "8670f3e5-bc20-49f1-cf2d-16edcae244c6"
      },
      "source": [
        "# plot word count distribution for both positive and negative\n",
        "data['word count'] = data['text'].apply(word_count)\n",
        "p = data['word count'][data.polarity==1]\n",
        "n = data['word count'][data.polarity==0]\n",
        "plt.figure(figsize=(12,6))\n",
        "plt.xlim(0,45)\n",
        "plt.xlabel('Word count')\n",
        "plt.ylabel('Frequency')\n",
        "g = plt.hist([p,n], color=['g','r'], alpha=0.5, label=['positive','negative'])\n",
        "plt.legend(loc='upper right')"
      ],
      "execution_count": 14,
      "outputs": [
        {
          "output_type": "stream",
          "text": [
            "/usr/local/lib/python3.7/dist-packages/numpy/core/_asarray.py:83: VisibleDeprecationWarning: Creating an ndarray from ragged nested sequences (which is a list-or-tuple of lists-or-tuples-or ndarrays with different lengths or shapes) is deprecated. If you meant to do this, you must specify 'dtype=object' when creating the ndarray\n",
            "  return array(a, dtype, copy=False, order=order)\n"
          ],
          "name": "stderr"
        },
        {
          "output_type": "execute_result",
          "data": {
            "text/plain": [
              "<matplotlib.legend.Legend at 0x7f22958c6250>"
            ]
          },
          "metadata": {
            "tags": []
          },
          "execution_count": 14
        },
        {
          "output_type": "display_data",
          "data": {
            "image/png": "[encoded data removed]",
            "text/plain": [
              "<Figure size 864x432 with 1 Axes>"
            ]
          },
          "metadata": {
            "tags": [],
            "needs_background": "light"
          }
        }
      ]
    },
    {
      "cell_type": "code",
      "metadata": {
        "colab": {
          "base_uri": "https://localhost:8080/"
        },
        "id": "g35Q8S7VvAA7",
        "outputId": "e4f0c0b7-4193-4092-e7f3-3bb9a5944363"
      },
      "source": [
        "# get common words in training dataset\n",
        "from collections import Counter\n",
        "all_words = []\n",
        "for line in list(data['text']):\n",
        "  words = line.split()\n",
        "  for word in words:\n",
        "    if(len(word)>2):\n",
        "      all_words.append(word.lower())\n",
        "\n",
        "Counter(all_words).most_common(20)"
      ],
      "execution_count": 15,
      "outputs": [
        {
          "output_type": "execute_result",
          "data": {
            "text/plain": [
              "[('the', 64637),\n",
              " ('and', 37012),\n",
              " ('you', 29438),\n",
              " ('for', 26821),\n",
              " ('have', 17570),\n",
              " ('that', 16157),\n",
              " (\"i'm\", 15953),\n",
              " ('just', 15580),\n",
              " ('but', 15553),\n",
              " ('with', 14203),\n",
              " ('was', 12991),\n",
              " ('not', 12768),\n",
              " ('this', 11072),\n",
              " ('get', 9964),\n",
              " ('good', 9520),\n",
              " ('like', 9386),\n",
              " ('are', 9354),\n",
              " ('all', 9251),\n",
              " ('out', 8563),\n",
              " (\"it's\", 8113)]"
            ]
          },
          "metadata": {
            "tags": []
          },
          "execution_count": 15
        }
      ]
    },
    {
      "cell_type": "markdown",
      "metadata": {
        "id": "IJ3NaqYSxFmq"
      },
      "source": [
        "# DATA PROCESSING"
      ]
    },
    {
      "cell_type": "code",
      "metadata": {
        "colab": {
          "base_uri": "https://localhost:8080/",
          "height": 350
        },
        "id": "8UhuGnYUxJDB",
        "outputId": "b7711a5b-93a6-457f-d73a-e5f6710cc613"
      },
      "source": [
        "%matplotlib inline\n",
        "sns.countplot(data['polarity'])"
      ],
      "execution_count": 17,
      "outputs": [
        {
          "output_type": "stream",
          "text": [
            "/usr/local/lib/python3.7/dist-packages/seaborn/_decorators.py:43: FutureWarning: Pass the following variable as a keyword arg: x. From version 0.12, the only valid positional argument will be `data`, and passing other arguments without an explicit keyword will result in an error or misinterpretation.\n",
            "  FutureWarning\n"
          ],
          "name": "stderr"
        },
        {
          "output_type": "execute_result",
          "data": {
            "text/plain": [
              "<matplotlib.axes._subplots.AxesSubplot at 0x7f22958c6b50>"
            ]
          },
          "metadata": {
            "tags": []
          },
          "execution_count": 17
        },
        {
          "output_type": "display_data",
          "data": {
            "image/png": "[encoded data removed]",
            "text/plain": [
              "<Figure size 432x288 with 1 Axes>"
            ]
          },
          "metadata": {
            "tags": [],
            "needs_background": "light"
          }
        }
      ]
    },
    {
      "cell_type": "code",
      "metadata": {
        "id": "uXfWWFLexsno"
      },
      "source": [
        "#removing the unnecessary columns\n",
        "data.drop(['date','query','user','word count'], axis=1, inplace=True)"
      ],
      "execution_count": 20,
      "outputs": []
    },
    {
      "cell_type": "code",
      "metadata": {
        "id": "MqJVpy0Gy2ds"
      },
      "source": [
        "data.drop('id',axis=1,inplace=True)"
      ],
      "execution_count": 21,
      "outputs": []
    },
    {
      "cell_type": "code",
      "metadata": {
        "colab": {
          "base_uri": "https://localhost:8080/",
          "height": 343
        },
        "id": "gbhRf4gGy_sD",
        "outputId": "07d87520-670b-4846-a498-40cf6adea5ce"
      },
      "source": [
        "data.head(10)"
      ],
      "execution_count": 22,
      "outputs": [
        {
          "output_type": "execute_result",
          "data": {
            "text/html": [
              "<div>\n",
              "<style scoped>\n",
              "    .dataframe tbody tr th:only-of-type {\n",
              "        vertical-align: middle;\n",
              "    }\n",
              "\n",
              "    .dataframe tbody tr th {\n",
              "        vertical-align: top;\n",
              "    }\n",
              "\n",
              "    .dataframe thead th {\n",
              "        text-align: right;\n",
              "    }\n",
              "</style>\n",
              "<table border=\"1\" class=\"dataframe\">\n",
              "  <thead>\n",
              "    <tr style=\"text-align: right;\">\n",
              "      <th></th>\n",
              "      <th>polarity</th>\n",
              "      <th>text</th>\n",
              "    </tr>\n",
              "  </thead>\n",
              "  <tbody>\n",
              "    <tr>\n",
              "      <th>149658</th>\n",
              "      <td>0</td>\n",
              "      <td>@NCenglander poor you  &amp;lt;333333</td>\n",
              "    </tr>\n",
              "    <tr>\n",
              "      <th>152366</th>\n",
              "      <td>0</td>\n",
              "      <td>Just got up for work all my family are still i...</td>\n",
              "    </tr>\n",
              "    <tr>\n",
              "      <th>865527</th>\n",
              "      <td>1</td>\n",
              "      <td>A belated #followfriday on #sorrysaturday @tom...</td>\n",
              "    </tr>\n",
              "    <tr>\n",
              "      <th>1482797</th>\n",
              "      <td>1</td>\n",
              "      <td>I am soooooo ready to see Magic beat the Laker...</td>\n",
              "    </tr>\n",
              "    <tr>\n",
              "      <th>1539920</th>\n",
              "      <td>1</td>\n",
              "      <td>On the iPhone, it actually makes sense to use ...</td>\n",
              "    </tr>\n",
              "    <tr>\n",
              "      <th>1012154</th>\n",
              "      <td>1</td>\n",
              "      <td>@Rockergirl75 You're here! I couldn't see you</td>\n",
              "    </tr>\n",
              "    <tr>\n",
              "      <th>477174</th>\n",
              "      <td>0</td>\n",
              "      <td>At work</td>\n",
              "    </tr>\n",
              "    <tr>\n",
              "      <th>355881</th>\n",
              "      <td>0</td>\n",
              "      <td>@alandavies1 Not the only one Alan! One of a s...</td>\n",
              "    </tr>\n",
              "    <tr>\n",
              "      <th>396168</th>\n",
              "      <td>0</td>\n",
              "      <td>Turning my phone off, going for a drive. Anoth...</td>\n",
              "    </tr>\n",
              "    <tr>\n",
              "      <th>50686</th>\n",
              "      <td>0</td>\n",
              "      <td>hmmm absolutley NO groceries in our house...  ...</td>\n",
              "    </tr>\n",
              "  </tbody>\n",
              "</table>\n",
              "</div>"
            ],
            "text/plain": [
              "         polarity                                               text\n",
              "149658          0                  @NCenglander poor you  &lt;333333\n",
              "152366          0  Just got up for work all my family are still i...\n",
              "865527          1  A belated #followfriday on #sorrysaturday @tom...\n",
              "1482797         1  I am soooooo ready to see Magic beat the Laker...\n",
              "1539920         1  On the iPhone, it actually makes sense to use ...\n",
              "1012154         1     @Rockergirl75 You're here! I couldn't see you \n",
              "477174          0                                           At work \n",
              "355881          0  @alandavies1 Not the only one Alan! One of a s...\n",
              "396168          0  Turning my phone off, going for a drive. Anoth...\n",
              "50686           0  hmmm absolutley NO groceries in our house...  ..."
            ]
          },
          "metadata": {
            "tags": []
          },
          "execution_count": 22
        }
      ]
    },
    {
      "cell_type": "code",
      "metadata": {
        "colab": {
          "base_uri": "https://localhost:8080/"
        },
        "id": "eQUfnoOyzbhC",
        "outputId": "9f511d1f-d8ae-4c56-9f7e-09a244a9c356"
      },
      "source": [
        "#Checking if any null values present\n",
        "(data.isnull().sum() / len(data))*100"
      ],
      "execution_count": 23,
      "outputs": [
        {
          "output_type": "execute_result",
          "data": {
            "text/plain": [
              "polarity    0.0\n",
              "text        0.0\n",
              "dtype: float64"
            ]
          },
          "metadata": {
            "tags": []
          },
          "execution_count": 23
        }
      ]
    },
    {
      "cell_type": "code",
      "metadata": {
        "id": "YEv7CjFaEuTi"
      },
      "source": [
        "#converting pandas object to a string type\n",
        "data['text']=data['text'].astype('str')"
      ],
      "execution_count": 28,
      "outputs": []
    },
    {
      "cell_type": "code",
      "metadata": {
        "colab": {
          "base_uri": "https://localhost:8080/"
        },
        "id": "kph9rK-DGEDb",
        "outputId": "5636a810-3915-414a-e3d8-efb6fd60d12e"
      },
      "source": [
        "nltk.download('stopwords')\n",
        "stopword = set(stopwords.words('english'))\n",
        "print(stopword)"
      ],
      "execution_count": 31,
      "outputs": [
        {
          "output_type": "stream",
          "text": [
            "[nltk_data] Downloading package stopwords to /root/nltk_data...\n",
            "[nltk_data]   Unzipping corpora/stopwords.zip.\n",
            "{'that', 'from', 'theirs', 'both', 'i', 'about', 'until', 'can', 'your', 'won', 'hadn', 'now', 'to', \"hadn't\", 'm', 'are', 'hasn', \"weren't\", 'was', 'out', 'them', 'll', 'any', \"it's\", 'after', 'over', \"should've\", 'and', 'when', 'couldn', \"won't\", 'further', 'no', 'wasn', 'most', 'does', 'this', 'as', 'which', 'himself', 'at', \"mightn't\", 'more', 'off', \"shan't\", 'being', 'be', \"hasn't\", 'my', 'few', 'ours', \"haven't\", \"needn't\", 'while', \"didn't\", 'other', 'will', 'weren', 'doing', \"don't\", \"aren't\", 'ain', 'down', 'have', 'she', 'here', \"she's\", 'hers', 'not', 'its', 'into', 'doesn', 'wouldn', \"you're\", 'him', \"that'll\", 'a', 'during', 'had', 'itself', 'her', 'isn', 'you', 'he', 'yours', \"mustn't\", 'aren', 'didn', 'all', 'don', 'by', 'in', 'nor', 'the', 'they', 'of', 'then', 'how', 'again', 'too', 'between', 'those', 'their', 'an', 'ourselves', 'we', 'own', 'herself', 'who', 're', 'so', \"couldn't\", 'once', 'through', 'themselves', 'these', 'up', 'with', 'been', 'below', \"you'll\", \"you've\", \"isn't\", 'if', 'mustn', 'on', 'above', \"wouldn't\", 'some', 'or', 'under', 't', 'me', 'having', 'it', 'should', \"wasn't\", 'shouldn', 's', 'ma', 'because', \"doesn't\", 'o', 'there', 'am', 'did', 'than', \"shouldn't\", 'yourself', 'why', 'what', 'but', 'each', 'for', 've', 'myself', 'his', 'has', 'where', 'very', 'shan', \"you'd\", 'before', 'our', 'needn', 'whom', 'yourselves', 'just', 'were', 'against', 'y', 'such', 'only', 'mightn', 'is', 'same', 'haven', 'd', 'do'}\n"
          ],
          "name": "stdout"
        }
      ]
    },
    {
      "cell_type": "code",
      "metadata": {
        "colab": {
          "base_uri": "https://localhost:8080/"
        },
        "id": "MgVPGT00Jn9W",
        "outputId": "80625f5a-fe96-49b3-f9f0-dbc41845a975"
      },
      "source": [
        "nltk.download('punkt')\n",
        "nltk.download('wordnet')"
      ],
      "execution_count": 32,
      "outputs": [
        {
          "output_type": "stream",
          "text": [
            "[nltk_data] Downloading package punkt to /root/nltk_data...\n",
            "[nltk_data]   Unzipping tokenizers/punkt.zip.\n",
            "[nltk_data] Downloading package wordnet to /root/nltk_data...\n",
            "[nltk_data]   Unzipping corpora/wordnet.zip.\n"
          ],
          "name": "stdout"
        },
        {
          "output_type": "execute_result",
          "data": {
            "text/plain": [
              "True"
            ]
          },
          "metadata": {
            "tags": []
          },
          "execution_count": 32
        }
      ]
    },
    {
      "cell_type": "markdown",
      "metadata": {
        "id": "9wH7e7-FJzmN"
      },
      "source": [
        "The Preprocessing steps taken are:\n",
        "\n",
        "\n",
        "> Lower Casing: Each text is converted to lowercase.\n",
        "\n",
        "\n",
        "> Removing URLs: Links starting with \"http\" or \"https\" or \"www\" are replaced by \"\".\n",
        "\n",
        "\n",
        "> Removing Usernames: Replace @Usernames with word \"\". (eg: \"@XYZ\" to \"\")\n",
        "\n",
        "\n",
        "> Removing Short Words: Words with length less than 2 are removed.\n",
        "\n",
        "\n",
        "> Removing Stopwords: Stopwords are the English words which does not add much meaning to a sentence. They can safely be ignored without sacrificing the meaning of the sentence. (eg: \"the\", \"he\", \"have\")\n",
        "\n",
        "\n",
        "> Lemmatizing: Lemmatization is the process of converting a word to its base form. (e.g: “wolves” to “wolf”)\n",
        "\n",
        "\n",
        "\n",
        "\n",
        "\n",
        "\n",
        "\n",
        "\n",
        "\n",
        "\n",
        "\n"
      ]
    },
    {
      "cell_type": "code",
      "metadata": {
        "id": "Ys3J38MJKPaN"
      },
      "source": [
        "urlPattern = r\"((http://)[^ ]*|(https://)[^ ]*|( www\\.)[^ ]*)\"\n",
        "userPattern = '@[^\\s]+'\n",
        "\n",
        "def process_tweets(tweet):\n",
        "  #Lower casing\n",
        "  tweet=tweet.lower()\n",
        "  tweet=tweet[1:]\n",
        "  #Removing all URls\n",
        "  tweet=re.sub(urlPattern,'',tweet)\n",
        "  #Removing all @username\n",
        "  tweet=re.sub(userPattern,'',tweet)\n",
        "  #Remove punctualizations\n",
        "  tweet = tweet.translate(str.maketrans(\"\",\"\",string.punctuation))\n",
        "  #tokenizing words\n",
        "  tokens=word_tokenize(tweet)\n",
        "  #Removing Stop Words\n",
        "  final_tokens = [w for w in tokens if w not in stopword]\n",
        "  #reducing a word to its word stem\n",
        "  wordLemm = WordNetLemmatizer() \n",
        "  finalwords=[]\n",
        "  for w in final_tokens:\n",
        "      if len(w)>1:\n",
        "        word = wordLemm.lemmatize(w)\n",
        "        finalwords.append(word)\n",
        "  return ' '.join(finalwords)"
      ],
      "execution_count": 33,
      "outputs": []
    },
    {
      "cell_type": "code",
      "metadata": {
        "colab": {
          "base_uri": "https://localhost:8080/"
        },
        "id": "0RBH-6gOOcu5",
        "outputId": "91f7b8bf-75cc-4810-c4cd-9ecf60065cf0"
      },
      "source": [
        "data['processed_tweets']=data['text'].apply(lambda x: process_tweets(x))\n",
        "print('Text Preprocessing complete')"
      ],
      "execution_count": 36,
      "outputs": [
        {
          "output_type": "stream",
          "text": [
            "Text Preprocessing complete\n"
          ],
          "name": "stdout"
        }
      ]
    },
    {
      "cell_type": "code",
      "metadata": {
        "colab": {
          "base_uri": "https://localhost:8080/",
          "height": 343
        },
        "id": "6QJwqKAEPQk1",
        "outputId": "aa28582b-5e31-456b-99e6-84d5d2c3d8c4"
      },
      "source": [
        "data.head(10)"
      ],
      "execution_count": 37,
      "outputs": [
        {
          "output_type": "execute_result",
          "data": {
            "text/html": [
              "<div>\n",
              "<style scoped>\n",
              "    .dataframe tbody tr th:only-of-type {\n",
              "        vertical-align: middle;\n",
              "    }\n",
              "\n",
              "    .dataframe tbody tr th {\n",
              "        vertical-align: top;\n",
              "    }\n",
              "\n",
              "    .dataframe thead th {\n",
              "        text-align: right;\n",
              "    }\n",
              "</style>\n",
              "<table border=\"1\" class=\"dataframe\">\n",
              "  <thead>\n",
              "    <tr style=\"text-align: right;\">\n",
              "      <th></th>\n",
              "      <th>polarity</th>\n",
              "      <th>text</th>\n",
              "      <th>processed_tweets</th>\n",
              "    </tr>\n",
              "  </thead>\n",
              "  <tbody>\n",
              "    <tr>\n",
              "      <th>149658</th>\n",
              "      <td>0</td>\n",
              "      <td>@NCenglander poor you  &amp;lt;333333</td>\n",
              "      <td>ncenglander poor lt333333</td>\n",
              "    </tr>\n",
              "    <tr>\n",
              "      <th>152366</th>\n",
              "      <td>0</td>\n",
              "      <td>Just got up for work all my family are still i...</td>\n",
              "      <td>ust got work family still bed</td>\n",
              "    </tr>\n",
              "    <tr>\n",
              "      <th>865527</th>\n",
              "      <td>1</td>\n",
              "      <td>A belated #followfriday on #sorrysaturday @tom...</td>\n",
              "      <td>belated followfriday sorrysaturday</td>\n",
              "    </tr>\n",
              "    <tr>\n",
              "      <th>1482797</th>\n",
              "      <td>1</td>\n",
              "      <td>I am soooooo ready to see Magic beat the Laker...</td>\n",
              "      <td>soooooo ready see magic beat lakers tonight</td>\n",
              "    </tr>\n",
              "    <tr>\n",
              "      <th>1539920</th>\n",
              "      <td>1</td>\n",
              "      <td>On the iPhone, it actually makes sense to use ...</td>\n",
              "      <td>iphone actually make sense use icon others use...</td>\n",
              "    </tr>\n",
              "    <tr>\n",
              "      <th>1012154</th>\n",
              "      <td>1</td>\n",
              "      <td>@Rockergirl75 You're here! I couldn't see you</td>\n",
              "      <td>rockergirl75 youre couldnt see</td>\n",
              "    </tr>\n",
              "    <tr>\n",
              "      <th>477174</th>\n",
              "      <td>0</td>\n",
              "      <td>At work</td>\n",
              "      <td>work</td>\n",
              "    </tr>\n",
              "    <tr>\n",
              "      <th>355881</th>\n",
              "      <td>0</td>\n",
              "      <td>@alandavies1 Not the only one Alan! One of a s...</td>\n",
              "      <td>alandavies1 one alan one sadly select though</td>\n",
              "    </tr>\n",
              "    <tr>\n",
              "      <th>396168</th>\n",
              "      <td>0</td>\n",
              "      <td>Turning my phone off, going for a drive. Anoth...</td>\n",
              "      <td>urning phone going drive another day another h...</td>\n",
              "    </tr>\n",
              "    <tr>\n",
              "      <th>50686</th>\n",
              "      <td>0</td>\n",
              "      <td>hmmm absolutley NO groceries in our house...  ...</td>\n",
              "      <td>mmm absolutley grocery house hate day def idea...</td>\n",
              "    </tr>\n",
              "  </tbody>\n",
              "</table>\n",
              "</div>"
            ],
            "text/plain": [
              "         polarity  ...                                   processed_tweets\n",
              "149658          0  ...                          ncenglander poor lt333333\n",
              "152366          0  ...                      ust got work family still bed\n",
              "865527          1  ...                 belated followfriday sorrysaturday\n",
              "1482797         1  ...        soooooo ready see magic beat lakers tonight\n",
              "1539920         1  ...  iphone actually make sense use icon others use...\n",
              "1012154         1  ...                     rockergirl75 youre couldnt see\n",
              "477174          0  ...                                               work\n",
              "355881          0  ...       alandavies1 one alan one sadly select though\n",
              "396168          0  ...  urning phone going drive another day another h...\n",
              "50686           0  ...  mmm absolutley grocery house hate day def idea...\n",
              "\n",
              "[10 rows x 3 columns]"
            ]
          },
          "metadata": {
            "tags": []
          },
          "execution_count": 37
        }
      ]
    },
    {
      "cell_type": "markdown",
      "metadata": {
        "id": "E8TamksyoNJr"
      },
      "source": [
        "# Convert Pandas to PySpark (Spark) DataFrame"
      ]
    },
    {
      "cell_type": "code",
      "metadata": {
        "id": "FMQpAjkOoQjl"
      },
      "source": [
        "#Create PySpark SparkSession\n",
        "spark = SparkSession.builder \\\n",
        "    .master(\"local[*]\") \\\n",
        "    .appName(\"TwitterSentimentAnalysis.com\") \\\n",
        "    .getOrCreate()\n",
        "\n",
        "#Create PySpark DataFrame from Pandas\n",
        "sparkDF=spark.createDataFrame(data) \n",
        "sparkDF.printSchema()\n",
        "sparkDF.show()"
      ],
      "execution_count": null,
      "outputs": []
    },
    {
      "cell_type": "markdown",
      "metadata": {
        "id": "AbZ5F1ngWKxm"
      },
      "source": [
        "# DATA FEATURIZATION\n",
        "TF-IDF\n",
        "Term frequency-inverse document frequency (TF-IDF) is a feature vectorization method widely used in text mining to reflect the importance of a term to a document in the corpus. Denote a term by t, a document by d, and the corpus by D. Term frequency TF(t,d) is the number of times that term t appears in document d, while document frequency DF(t,D) is the number of documents that contains term t.\n",
        "If we only use term frequency to measure the importance, it is very easy to over-emphasize terms that appear very often but carry little information about the document, e.g. “a”, “the”, and “of”. If a term appears very often across the corpus, it means it doesn’t carry special information about a particular document. Inverse document frequency is a numerical measure of how much information a term provides:\n",
        "\n",
        "> IDF(t,D)=(log|D|+1)/(DF(t,D)+1)\n",
        "\n",
        "where |D| is the total number of documents in the corpus. Since logarithm is used, if a term appears in all documents, its IDF value becomes 0. Note that a smoothing term is applied to avoid dividing by zero for terms outside the corpus. The TF-IDF measure is simply the product of TF and IDF:\n",
        "\n",
        "> TFIDF(t,d,D)=TF(t,d)⋅IDF(t,D)\n",
        "\n",
        "There are several variants on the definition of term frequency and document frequency. In MLlib, we separate TF and IDF to make them flexible.\n",
        "\n",
        "> TF: Both HashingTF and CountVectorizer can be used to generate the term frequency vectors.\n",
        "\n",
        "\n",
        "> IDF is an Estimator which is fit on a dataset and produces an IDFModel. The IDFModel takes feature vectors (generally created from HashingTF or CountVectorizer) and scales each feature. Intuitively, it down-weights features which appear frequently in a corpus.\n",
        "\n",
        "\n"
      ]
    },
    {
      "cell_type": "code",
      "metadata": {
        "id": "ur_J6laqbKI9"
      },
      "source": [
        " tokenizer = Tokenizer(inputCol=\"processed_tweets\", outputCol=\"words\")\n",
        " wordsData = tokenizer.transform(sparkDF)\n",
        " hashingTF = HashingTF(inputCol=\"words\", outputCol=\"rawFeatures\", numFeatures=131072)\n",
        " featurizedData = hashingTF.transform(wordsData)\n",
        "\n",
        " idf = IDF(inputCol=\"rawFeatures\", outputCol=\"features\")\n",
        " idfModel = idf.fit(featurizedData)\n",
        " rescaledData = idfModel.transform(featurizedData)\n",
        "\n",
        " rescaledData.select(\"polarity\", \"features\").show()"
      ],
      "execution_count": null,
      "outputs": []
    }
  ]
}